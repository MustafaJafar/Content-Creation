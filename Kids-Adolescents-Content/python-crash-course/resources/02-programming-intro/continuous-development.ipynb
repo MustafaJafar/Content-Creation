{
 "cells": [
  {
   "cell_type": "code",
   "execution_count": 1,
   "id": "6bc40007",
   "metadata": {},
   "outputs": [
    {
     "data": {
      "text/plain": [
       "'\\nIt starts with a simple idea and then expands Iteratively. \\nWith each iteration, you can create a new feature or improve an already built one. \\n\\nLike starting your sketch by drawing primitive shapes and enhancing it step by step.\\n'"
      ]
     },
     "execution_count": 1,
     "metadata": {},
     "output_type": "execute_result"
    }
   ],
   "source": [
    "\"\"\"\n",
    "It starts with a simple idea and then iteratively builds on to it. \n",
    "With each iteration, you can create a new feature or improve an already built one. \n",
    "\n",
    "Like starting your drawing by painting and finishing piece by piece.\n",
    "\n",
    "This method is suitable in case you are not sure about what to do.\n",
    "It's more of an experiment than implementing a solution.\n",
    "\"\"\""
   ]
  },
  {
   "cell_type": "code",
   "execution_count": 2,
   "id": "19d77102",
   "metadata": {},
   "outputs": [],
   "source": [
    "# Iteration 1: Start with empty circle class\n",
    "class Circle: \n",
    "    pass"
   ]
  },
  {
   "cell_type": "code",
   "execution_count": 4,
   "id": "fee7745e",
   "metadata": {},
   "outputs": [],
   "source": [
    "# Iteration 2: Add init method with radius attribute \n",
    "class Circle: \n",
    "    def __init__(self):\n",
    "        self.radius"
   ]
  },
  {
   "cell_type": "code",
   "execution_count": 5,
   "id": "80088a94",
   "metadata": {},
   "outputs": [],
   "source": [
    "# Iteration 3: add radius value argument and assign it to the radius attribute \n",
    "\n",
    "class Circle: \n",
    "    def __init__(self , r):\n",
    "        self.radius = r"
   ]
  },
  {
   "cell_type": "code",
   "execution_count": 6,
   "id": "918a599b",
   "metadata": {},
   "outputs": [],
   "source": [
    "# Iteration 4: Add circumference method\n",
    "\n",
    "class Circle: \n",
    "    def __init__(self , r):\n",
    "        self.radius = r\n",
    "    \n",
    "    def Circumference (self) : \n",
    "        pass"
   ]
  },
  {
   "cell_type": "code",
   "execution_count": 7,
   "id": "33e2a196",
   "metadata": {},
   "outputs": [],
   "source": [
    "# Iteration 5 : write circumference equation and return its value\n",
    "\n",
    "class Circle: \n",
    "    def __init__(self , r):\n",
    "        self.radius = r\n",
    "    \n",
    "    def Circumference (self) : \n",
    "        return 2 * self.radius * 3.14"
   ]
  },
  {
   "cell_type": "code",
   "execution_count": 8,
   "id": "08ba08f0",
   "metadata": {},
   "outputs": [],
   "source": [
    "# Iteration 6 : Add area method\n",
    "\n",
    "class Circle: \n",
    "    def __init__(self , r):\n",
    "        self.radius = r\n",
    "    \n",
    "    def Circumference (self) : \n",
    "        return 2 * self.radius * 3.14\n",
    "    \n",
    "    def Area (self):\n",
    "        pass "
   ]
  },
  {
   "cell_type": "code",
   "execution_count": 9,
   "id": "78416041",
   "metadata": {},
   "outputs": [],
   "source": [
    "# Iteration 5 : write area equation and return its value\n",
    "\n",
    "class Circle: \n",
    "    def __init__(self , r):\n",
    "        self.radius = r\n",
    "    \n",
    "    def Circumference (self) : \n",
    "        return 2 * self.radius * 3.14\n",
    "    \n",
    "    def Area (self):\n",
    "        return  3.14 * self.radius * self.radius"
   ]
  },
  {
   "cell_type": "code",
   "execution_count": null,
   "id": "001b12f4",
   "metadata": {},
   "outputs": [],
   "source": []
  }
 ],
 "metadata": {
  "kernelspec": {
   "display_name": "Python 3 (ipykernel)",
   "language": "python",
   "name": "python3"
  },
  "language_info": {
   "codemirror_mode": {
    "name": "ipython",
    "version": 3
   },
   "file_extension": ".py",
   "mimetype": "text/x-python",
   "name": "python",
   "nbconvert_exporter": "python",
   "pygments_lexer": "ipython3",
   "version": "3.9.10"
  }
 },
 "nbformat": 4,
 "nbformat_minor": 5
}
