{
 "cells": [
  {
   "cell_type": "code",
   "execution_count": 1,
   "id": "71c2dc4d",
   "metadata": {},
   "outputs": [],
   "source": [
    "# Welcome! \n",
    "\n"
   ]
  },
  {
   "cell_type": "code",
   "execution_count": 2,
   "id": "6b313ac6",
   "metadata": {},
   "outputs": [],
   "source": [
    "#Arithmetic Expressions\n",
    "\n",
    "\n"
   ]
  },
  {
   "cell_type": "code",
   "execution_count": 3,
   "id": "0240d093",
   "metadata": {},
   "outputs": [],
   "source": [
    "# Input / Output\n",
    "\n",
    "\n"
   ]
  },
  {
   "cell_type": "code",
   "execution_count": 4,
   "id": "988140a0",
   "metadata": {},
   "outputs": [],
   "source": [
    "# Variables I\n",
    "\n",
    "\n"
   ]
  },
  {
   "cell_type": "code",
   "execution_count": 5,
   "id": "9e0c384f",
   "metadata": {},
   "outputs": [],
   "source": [
    "# Comparisons and Logic Operations\n",
    "\n",
    "\n"
   ]
  },
  {
   "cell_type": "code",
   "execution_count": 6,
   "id": "8a770d54",
   "metadata": {},
   "outputs": [],
   "source": [
    "# Variables II (Sequences of data)\n",
    "\n",
    "\n",
    "\n"
   ]
  },
  {
   "cell_type": "code",
   "execution_count": 7,
   "id": "3579918d",
   "metadata": {},
   "outputs": [],
   "source": [
    "# Functions\n",
    "\n",
    "\n"
   ]
  },
  {
   "cell_type": "code",
   "execution_count": 8,
   "id": "4fec99fa",
   "metadata": {},
   "outputs": [],
   "source": [
    "# Classes\n",
    "\n",
    "\n"
   ]
  },
  {
   "cell_type": "code",
   "execution_count": 9,
   "id": "6588cd0b",
   "metadata": {},
   "outputs": [],
   "source": [
    "# Modules\n",
    "\n",
    "\n"
   ]
  },
  {
   "cell_type": "code",
   "execution_count": 10,
   "id": "993c93e5",
   "metadata": {},
   "outputs": [],
   "source": [
    "# Packages \n",
    "\n",
    "\n"
   ]
  },
  {
   "cell_type": "code",
   "execution_count": null,
   "id": "01ac9b42",
   "metadata": {},
   "outputs": [],
   "source": []
  }
 ],
 "metadata": {
  "kernelspec": {
   "display_name": "Python 3 (ipykernel)",
   "language": "python",
   "name": "python3"
  },
  "language_info": {
   "codemirror_mode": {
    "name": "ipython",
    "version": 3
   },
   "file_extension": ".py",
   "mimetype": "text/x-python",
   "name": "python",
   "nbconvert_exporter": "python",
   "pygments_lexer": "ipython3",
   "version": "3.9.10"
  }
 },
 "nbformat": 4,
 "nbformat_minor": 5
}
